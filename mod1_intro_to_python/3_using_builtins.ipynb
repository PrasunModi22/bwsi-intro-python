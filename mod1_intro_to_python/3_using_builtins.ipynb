{
 "cells": [
  {
   "cell_type": "markdown",
   "metadata": {},
   "source": [
    "# Introduction to Python: Using Built-Ins"
   ]
  },
  {
   "cell_type": "markdown",
   "metadata": {},
   "source": [
    "Please follow the instructions and uncomment the skeleton code as necessary.\n",
    "\n",
    "This assignment is due in addition to the small group assignment before the next class"
   ]
  },
  {
   "cell_type": "markdown",
   "metadata": {},
   "source": [
    "## Part 1: Strings"
   ]
  },
  {
   "cell_type": "code",
   "execution_count": 1,
   "metadata": {},
   "outputs": [],
   "source": [
    "# Create a variable called my_name and set it to be your name as a string\n",
    "my_name = \"Prasun\""
   ]
  },
  {
   "cell_type": "markdown",
   "metadata": {},
   "source": [
    "We can combine strings together to make a full sentence:"
   ]
  },
  {
   "cell_type": "code",
   "execution_count": 2,
   "metadata": {},
   "outputs": [
    {
     "name": "stdout",
     "output_type": "stream",
     "text": [
      "hello world! My name is Prasun\n"
     ]
    }
   ],
   "source": [
    "greeting = \"hello world!\"\n",
    "print(greeting + \" My name is \" + my_name)"
   ]
  },
  {
   "cell_type": "markdown",
   "metadata": {},
   "source": [
    "Notice that the sentence we printed isn't capitalized correctly. Luckily, Python has a bulit-in that can help us!"
   ]
  },
  {
   "cell_type": "code",
   "execution_count": 3,
   "metadata": {},
   "outputs": [
    {
     "name": "stdout",
     "output_type": "stream",
     "text": [
      "Hello world! My name is Prasun\n"
     ]
    }
   ],
   "source": [
    "# Use the built-in method to capitalize the greeting\n",
    "greeting = greeting.capitalize()\n",
    "print(greeting + \" My name is \" + my_name)"
   ]
  },
  {
   "cell_type": "markdown",
   "metadata": {},
   "source": [
    "### Q.1: What do the following methods do to our string?"
   ]
  },
  {
   "cell_type": "code",
   "execution_count": 4,
   "metadata": {},
   "outputs": [
    {
     "name": "stdout",
     "output_type": "stream",
     "text": [
      "HELLO WORLD! hello world! Heyo world!\n"
     ]
    }
   ],
   "source": [
    "print(greeting.upper(), greeting.lower(), greeting.replace('ll', 'y'))"
   ]
  },
  {
   "cell_type": "markdown",
   "metadata": {},
   "source": [
    "### A.1: \n",
    "1. make everything uppercase, 2. print greeting lowercase, 3. \"Heyo world\""
   ]
  },
  {
   "cell_type": "markdown",
   "metadata": {},
   "source": [
    "Split and join are two other built-in methods for string variables:\n",
    "- `split`: returns a list of strings, fragments of the original string without the given character\n",
    "- `join`: inserts the given character between each string in a given list and joins them together"
   ]
  },
  {
   "cell_type": "code",
   "execution_count": 5,
   "metadata": {},
   "outputs": [
    {
     "name": "stdout",
     "output_type": "stream",
     "text": [
      "split string:  ['Hell', ' w', 'rld!'] \n",
      "type:  <class 'list'>\n"
     ]
    }
   ],
   "source": [
    "split_greeting = greeting.split('o')\n",
    "print(\"split string: \", split_greeting, \"\\ntype: \", type(split_greeting))"
   ]
  },
  {
   "cell_type": "code",
   "execution_count": 6,
   "metadata": {},
   "outputs": [
    {
     "name": "stdout",
     "output_type": "stream",
     "text": [
      "joined string:  Hello world! \n",
      "type:  <class 'str'>\n"
     ]
    }
   ],
   "source": [
    "joined_greeting = 'o'.join(split_greeting)\n",
    "print(\"joined string: \", joined_greeting, \"\\ntype: \", type(joined_greeting))"
   ]
  },
  {
   "cell_type": "markdown",
   "metadata": {},
   "source": [
    "### Q.2: please use the bulit-in methods to transform the gibberish string below into `\"I'm learning how to code!\"`"
   ]
  },
  {
   "cell_type": "code",
   "execution_count": 7,
   "metadata": {},
   "outputs": [],
   "source": [
    "gibberish = \"'m_L3arNinG_H0w_t0_C0d3!\""
   ]
  },
  {
   "cell_type": "markdown",
   "metadata": {},
   "source": [
    "Uncomment and modify the provided skeleton code as necessary"
   ]
  },
  {
   "cell_type": "code",
   "execution_count": 9,
   "metadata": {},
   "outputs": [
    {
     "name": "stdout",
     "output_type": "stream",
     "text": [
      "I'm learning how to code!\n"
     ]
    }
   ],
   "source": [
    "# Replace the zeros with o\n",
    "step1 = gibberish.replace(\"0\", \"o\")\n",
    "\n",
    "# Replace the threes with e\n",
    "step2 = step1.replace(\"3\", \"e\")\n",
    "\n",
    "# Make all letters lower case\n",
    "step3 = step2.lower()\n",
    "\n",
    "# Remove all underscores and extract the fragments as a list of strings\n",
    "step4 = step3.split(\"_\")\n",
    "\n",
    "# Join the list of strings with spaces\n",
    "step5 = \" \".join(step4)\n",
    "\n",
    "# Add the missing letter to produce the desired phrase\n",
    "step6 = \"I\" + step5\n",
    "print(step6)"
   ]
  },
  {
   "cell_type": "markdown",
   "metadata": {},
   "source": [
    "## Part 2: Lists"
   ]
  },
  {
   "cell_type": "markdown",
   "metadata": {},
   "source": [
    "We can group many elements together in a list. In Python, any basic data type can be an element in a list, and elements can be of varying data types. "
   ]
  },
  {
   "cell_type": "code",
   "execution_count": 10,
   "metadata": {},
   "outputs": [],
   "source": [
    "#this is an example of a list of strings\n",
    "names = [\"Kallee\", \"Peter\", \"Silas\"]\n",
    "\n",
    "#this is an example of a list of numbers and strings\n",
    "address = [100, \"ABC St.\", \"OH\", 45458]"
   ]
  },
  {
   "cell_type": "markdown",
   "metadata": {},
   "source": [
    "We can edit our list of names by inserting an element with the built-in method `insert`"
   ]
  },
  {
   "cell_type": "code",
   "execution_count": 11,
   "metadata": {},
   "outputs": [
    {
     "name": "stdout",
     "output_type": "stream",
     "text": [
      "[100, 'ABC St.', 'Apt 1', 'OH', 45458]\n"
     ]
    }
   ],
   "source": [
    "address.insert(2, \"Apt 1\")\n",
    "print(address)"
   ]
  },
  {
   "cell_type": "markdown",
   "metadata": {},
   "source": [
    "These are different from the built-in `append` and `extend` methods, which are more similar to the `+` operator:"
   ]
  },
  {
   "cell_type": "code",
   "execution_count": 13,
   "metadata": {},
   "outputs": [
    {
     "name": "stdout",
     "output_type": "stream",
     "text": [
      "[100, 'ABC St.', 'Apt 1', 'OH', 45458, 'USA']\n"
     ]
    }
   ],
   "source": [
    "address.append(\"USA\")\n",
    "print(address)"
   ]
  },
  {
   "cell_type": "markdown",
   "metadata": {},
   "source": [
    "Note that `extend` takes a list as input, whereas `append` can add a single element to the end of the list:"
   ]
  },
  {
   "cell_type": "code",
   "execution_count": 17,
   "metadata": {},
   "outputs": [
    {
     "name": "stdout",
     "output_type": "stream",
     "text": [
      "['Kallee', 'Peter', 'Silas', 'Omar', 'Abby', 'Shreya', 'Aby', 'Shreya', 'Abby', 'Shreya', 'Abby']\n"
     ]
    }
   ],
   "source": [
    "names.append(\"Shreya\")\n",
    "names.extend([\"Abby\"])\n",
    "print(names)"
   ]
  },
  {
   "cell_type": "markdown",
   "metadata": {},
   "source": [
    "We can also edit our `names` list by using assignment and indexing"
   ]
  },
  {
   "cell_type": "code",
   "execution_count": 19,
   "metadata": {},
   "outputs": [
    {
     "name": "stdout",
     "output_type": "stream",
     "text": [
      "['Kallee', 'Peter', 'Omar', 'Omar', 'Abby', 'Shreya', 'Aby', 'Shreya', 'Abby', 'Shreya', 'Abby']\n"
     ]
    }
   ],
   "source": [
    "names[2] = \"Omar\"\n",
    "print(names)"
   ]
  },
  {
   "cell_type": "markdown",
   "metadata": {},
   "source": [
    "### Q.3: What difference is there between how `insert` changed the list compared to `list[]`?"
   ]
  },
  {
   "cell_type": "markdown",
   "metadata": {},
   "source": [
    "### A.3:\n",
    "Insert adds an element while list[] replaces an element"
   ]
  },
  {
   "cell_type": "markdown",
   "metadata": {},
   "source": [
    "Now let's see how we can remove elements from a list"
   ]
  },
  {
   "cell_type": "code",
   "execution_count": 20,
   "metadata": {},
   "outputs": [
    {
     "name": "stdout",
     "output_type": "stream",
     "text": [
      "['red', 'yellow', 'blue', 'purple', 'green', 'pink', 'teal', 'marigold']\n"
     ]
    }
   ],
   "source": [
    "colors = [\"red\", \"blue\", \"yellow\", \"blue\", \"purple\", \"green\", \"pink\", \"teal\", \"marigold\"]\n",
    "colors.remove(\"blue\")\n",
    "print(colors)"
   ]
  },
  {
   "cell_type": "markdown",
   "metadata": {},
   "source": [
    "It looks like the first occurrance of `\"blue\"` in the list was removed! What happens when we try to remove `\"blue\"` again?"
   ]
  },
  {
   "cell_type": "code",
   "execution_count": 21,
   "metadata": {},
   "outputs": [
    {
     "name": "stdout",
     "output_type": "stream",
     "text": [
      "['red', 'yellow', 'purple', 'green', 'pink', 'teal', 'marigold']\n"
     ]
    }
   ],
   "source": [
    "colors.remove(\"blue\")\n",
    "print(colors)"
   ]
  },
  {
   "cell_type": "markdown",
   "metadata": {},
   "source": [
    "No more `\"blue\"` in the colors list! Let's now try to remove the second element of the list."
   ]
  },
  {
   "cell_type": "markdown",
   "metadata": {},
   "source": [
    "The `pop` built-in allows us remove elements based on their index."
   ]
  },
  {
   "cell_type": "code",
   "execution_count": 22,
   "metadata": {},
   "outputs": [
    {
     "name": "stdout",
     "output_type": "stream",
     "text": [
      "['red', 'yellow', 'green', 'pink', 'teal', 'marigold']\n"
     ]
    }
   ],
   "source": [
    "colors.pop(2)\n",
    "print(colors)"
   ]
  },
  {
   "cell_type": "markdown",
   "metadata": {},
   "source": [
    "We can also use `pop` like this:"
   ]
  },
  {
   "cell_type": "code",
   "execution_count": 29,
   "metadata": {},
   "outputs": [
    {
     "ename": "IndexError",
     "evalue": "pop from empty list",
     "output_type": "error",
     "traceback": [
      "\u001b[31m---------------------------------------------------------------------------\u001b[39m",
      "\u001b[31mIndexError\u001b[39m                                Traceback (most recent call last)",
      "\u001b[36mCell\u001b[39m\u001b[36m \u001b[39m\u001b[32mIn[29]\u001b[39m\u001b[32m, line 1\u001b[39m\n\u001b[32m----> \u001b[39m\u001b[32m1\u001b[39m \u001b[43mcolors\u001b[49m\u001b[43m.\u001b[49m\u001b[43mpop\u001b[49m\u001b[43m(\u001b[49m\u001b[43m)\u001b[49m\n\u001b[32m      2\u001b[39m \u001b[38;5;28mprint\u001b[39m(colors)\n",
      "\u001b[31mIndexError\u001b[39m: pop from empty list"
     ]
    }
   ],
   "source": [
    "colors.pop()\n",
    "print(colors)"
   ]
  },
  {
   "cell_type": "markdown",
   "metadata": {},
   "source": [
    "### Q.4: What is different about `pop`'s behavior now? What do you think caused this change?"
   ]
  },
  {
   "cell_type": "markdown",
   "metadata": {},
   "source": [
    "### A.4: \n",
    "It removes the last element"
   ]
  },
  {
   "cell_type": "markdown",
   "metadata": {},
   "source": [
    "Another neat behavior: `pop` can return the value it removes if you assign it to a variable"
   ]
  },
  {
   "cell_type": "code",
   "execution_count": 30,
   "metadata": {},
   "outputs": [
    {
     "ename": "IndexError",
     "evalue": "pop from empty list",
     "output_type": "error",
     "traceback": [
      "\u001b[31m---------------------------------------------------------------------------\u001b[39m",
      "\u001b[31mIndexError\u001b[39m                                Traceback (most recent call last)",
      "\u001b[36mCell\u001b[39m\u001b[36m \u001b[39m\u001b[32mIn[30]\u001b[39m\u001b[32m, line 1\u001b[39m\n\u001b[32m----> \u001b[39m\u001b[32m1\u001b[39m byebye = \u001b[43mcolors\u001b[49m\u001b[43m.\u001b[49m\u001b[43mpop\u001b[49m\u001b[43m(\u001b[49m\u001b[43m)\u001b[49m\n\u001b[32m      2\u001b[39m \u001b[38;5;28mprint\u001b[39m(byebye)\n",
      "\u001b[31mIndexError\u001b[39m: pop from empty list"
     ]
    }
   ],
   "source": [
    "byebye = colors.pop()\n",
    "print(byebye)"
   ]
  },
  {
   "cell_type": "markdown",
   "metadata": {},
   "source": [
    "Finally, we can use the `del` keyword. Rather than being a built-in function, `del` is a keyword in Python, so it has a few magical powers:"
   ]
  },
  {
   "cell_type": "code",
   "execution_count": 32,
   "metadata": {},
   "outputs": [
    {
     "ename": "NameError",
     "evalue": "name 'colors' is not defined",
     "output_type": "error",
     "traceback": [
      "\u001b[31m---------------------------------------------------------------------------\u001b[39m",
      "\u001b[31mNameError\u001b[39m                                 Traceback (most recent call last)",
      "\u001b[36mCell\u001b[39m\u001b[36m \u001b[39m\u001b[32mIn[32]\u001b[39m\u001b[32m, line 2\u001b[39m\n\u001b[32m      1\u001b[39m \u001b[38;5;66;03m# remove the first element in colors\u001b[39;00m\n\u001b[32m----> \u001b[39m\u001b[32m2\u001b[39m \u001b[38;5;28;01mdel\u001b[39;00m \u001b[43mcolors\u001b[49m[\u001b[32m0\u001b[39m]\n\u001b[32m      3\u001b[39m \u001b[38;5;28mprint\u001b[39m(colors)\n",
      "\u001b[31mNameError\u001b[39m: name 'colors' is not defined"
     ]
    }
   ],
   "source": [
    "# remove the first element in colors\n",
    "del colors[0]\n",
    "print(colors)"
   ]
  },
  {
   "cell_type": "markdown",
   "metadata": {},
   "source": [
    "### Q.5: What happens when you run the command `del colors`? Try to guess before running the cell below"
   ]
  },
  {
   "cell_type": "markdown",
   "metadata": {},
   "source": [
    "### A.5:\n",
    "Deletes the variable"
   ]
  },
  {
   "cell_type": "code",
   "execution_count": 31,
   "metadata": {},
   "outputs": [],
   "source": [
    "del colors"
   ]
  },
  {
   "cell_type": "markdown",
   "metadata": {},
   "source": [
    "### Q.6: What do you think will the following cell will output and why?"
   ]
  },
  {
   "cell_type": "markdown",
   "metadata": {},
   "source": [
    "### A.6:\n",
    "Error as colors does not exist anymore"
   ]
  },
  {
   "cell_type": "code",
   "execution_count": 40,
   "metadata": {},
   "outputs": [
    {
     "name": "stdout",
     "output_type": "stream",
     "text": [
      "False\n",
      "False\n",
      "False\n",
      "0\n",
      "<class 'int'>\n",
      "hello world!\n"
     ]
    }
   ],
   "source": [
    "name = \"Python Student\"\n",
    "is_lowercase = (name == name.lower())\n",
    "is_uppercase = (name == name.upper())\n",
    "is_capital = (name == name.capitalize())\n",
    "any_matching_case = sum([is_lowercase, is_uppercase, is_capital])\n",
    "\n",
    "\n",
    "print(is_lowercase)\n",
    "print(is_uppercase)\n",
    "print(is_capital)\n",
    "print(any_matching_case)\n",
    "print(type(any_matching_case))\n",
    "\n",
    "print(\"hello-world!\".replace(\"-\", \" \"))"
   ]
  }
 ],
 "metadata": {
  "kernelspec": {
   "display_name": "Python 3",
   "language": "python",
   "name": "python3"
  },
  "language_info": {
   "codemirror_mode": {
    "name": "ipython",
    "version": 3
   },
   "file_extension": ".py",
   "mimetype": "text/x-python",
   "name": "python",
   "nbconvert_exporter": "python",
   "pygments_lexer": "ipython3",
   "version": "3.13.2"
  }
 },
 "nbformat": 4,
 "nbformat_minor": 2
}
